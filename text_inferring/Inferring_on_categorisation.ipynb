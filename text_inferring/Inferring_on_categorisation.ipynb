{
 "cells": [
  {
   "cell_type": "code",
   "execution_count": 27,
   "metadata": {},
   "outputs": [],
   "source": [
    "import openai\n",
    "import os\n",
    "\n",
    "from dotenv import load_dotenv, find_dotenv\n",
    "_ = load_dotenv(find_dotenv()) # read local .env file\n",
    "\n",
    "openai.api_key  = os.getenv('OPENAI_API_KEY')\n",
    "\n",
    "openai.api_key = \"YOUR_API_KEY\""
   ]
  },
  {
   "cell_type": "code",
   "execution_count": 28,
   "metadata": {},
   "outputs": [],
   "source": [
    "def get_completion(prompt, model=\"gpt-3.5-turbo\"):\n",
    "    messages = [{\"role\": \"user\", \"content\": prompt}]\n",
    "    response = openai.ChatCompletion.create(\n",
    "        model=model,\n",
    "        messages=messages,\n",
    "        temperature=0.6, # this is the degree of randomness of the model's output\n",
    "    )\n",
    "    return response.choices[0].message[\"content\"]"
   ]
  },
  {
   "cell_type": "code",
   "execution_count": 33,
   "metadata": {},
   "outputs": [],
   "source": [
    "User_prompt = \"\"\"\n",
    "hey i have a instruction that i want to put in the wiki is there a routine to help me transfomr it from current structure to the appropriate structure, it is a govenring document\n",
    "\"\"\""
   ]
  },
  {
   "cell_type": "code",
   "execution_count": 34,
   "metadata": {},
   "outputs": [
    {
     "name": "stdout",
     "output_type": "stream",
     "text": [
      "{\"Reason of the prompt\": \"User asking about a routine/process content\", \"Prompt specifity\": 6}\n"
     ]
    }
   ],
   "source": [
    "prompt = f\"\"\"\n",
    "Based on the User prompts provided by the users to the chatbot, \\\n",
    "which is housed within the internal tool called \"Klarnawiki\", a mediawiki based software, identify and inferre the following: \\\n",
    "\n",
    "1. Resons behind the user prompt: (\"User sharing possitive feedback\", \"User sharing negative feedback\", \"user wants to share improvement ideas\", \\\n",
    "    \"User raising a complaint about a bug/error\", \"User raising a complaint about Klarnawiki content\", \\\n",
    "    \"User asking about a specific Klarnawiki feature\", \"User asking a question about a routine/process content\", \\\n",
    "    \"User asking about a specific page\", \"User asking a technical question\", \\ \"User asking about the the company Klarna\", \\\n",
    "    \"User complaining about the chatbot functioning\", \\ \"User asking about a specific Klarna's Team\", \"User asking about a specific Person\", \\ \n",
    "    \"User asking about the chatbot functioning\", \\\n",
    "    \"User asking about how to perform a specific action within the Klarnawiki\", \"User complaining about Klarnawiki functioning\", \\\n",
    "    \"User asking about work equipment/devices\", \"User asking about AI/cookbooks\", \"User looking for someone to contact\")\n",
    "2. Asess from 1 to 10, how specific has been the prompt?: (\"1\" being \"Too vage/unnespecific\", and \"10\" being \"very specific\") \n",
    "\n",
    "The review is delimited with triple backticks. \\\n",
    "Format your response as a JSON object with \\\n",
    "\"Reason of the prompt\", and \"Prompt specifity\", as the keys.\n",
    "If the information isn't present, use \"unknown\" as the value.\n",
    "\n",
    "Review text: '''{User_prompt}'''\n",
    "\"\"\"\n",
    "\n",
    "response = get_completion(prompt)\n",
    "print(response)"
   ]
  },
  {
   "cell_type": "code",
   "execution_count": null,
   "metadata": {},
   "outputs": [],
   "source": []
  }
 ],
 "metadata": {
  "kernelspec": {
   "display_name": "Python 3",
   "language": "python",
   "name": "python3"
  },
  "language_info": {
   "codemirror_mode": {
    "name": "ipython",
    "version": 3
   },
   "file_extension": ".py",
   "mimetype": "text/x-python",
   "name": "python",
   "nbconvert_exporter": "python",
   "pygments_lexer": "ipython3",
   "version": "3.11.3"
  },
  "orig_nbformat": 4
 },
 "nbformat": 4,
 "nbformat_minor": 2
}
