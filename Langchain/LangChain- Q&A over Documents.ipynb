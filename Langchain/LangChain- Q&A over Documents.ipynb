{
 "cells": [
  {
   "attachments": {},
   "cell_type": "markdown",
   "metadata": {},
   "source": [
    "# LangChain: Q&A over Documents\n",
    "\n",
    "An example might be a tool that would allow you to query a product catalog for items of interest.\n",
    "\n",
    "!pip install --upgrade langchain\n",
    "\n",
    "https://learn.deeplearning.ai/langchain/lesson/5/question-and-answer\n"
   ]
  },
  {
   "cell_type": "code",
   "execution_count": 1,
   "metadata": {},
   "outputs": [],
   "source": [
    "import os\n",
    "from dotenv import load_dotenv\n",
    "\n",
    "def set_env_path(env_path):\n",
    "    # Set the path to the .env file\n",
    "    load_dotenv(dotenv_path=env_path)\n",
    "\n",
    "# Define the path to the .env file\n",
    "env_path = \"YOUR_ENV_PATH\"\n",
    "# Set the environment variables from the .env file\n",
    "set_env_path(env_path)"
   ]
  },
  {
   "cell_type": "code",
   "execution_count": 2,
   "metadata": {},
   "outputs": [],
   "source": [
    "from langchain.chains import RetrievalQA\n",
    "from langchain.chat_models import ChatOpenAI\n",
    "from langchain.document_loaders import CSVLoader\n",
    "from langchain.vectorstores import DocArrayInMemorySearch\n",
    "from IPython.display import display, Markdown"
   ]
  },
  {
   "cell_type": "code",
   "execution_count": 7,
   "metadata": {},
   "outputs": [],
   "source": [
    "file = '/Users/m.maguga-darbinian/OutdoorClothingCatalog_1000.csv'\n",
    "loader = CSVLoader(file_path=file)"
   ]
  },
  {
   "cell_type": "code",
   "execution_count": 8,
   "metadata": {},
   "outputs": [],
   "source": [
    "from langchain.indexes import VectorstoreIndexCreator"
   ]
  },
  {
   "cell_type": "code",
   "execution_count": 5,
   "metadata": {},
   "outputs": [
    {
     "name": "stdout",
     "output_type": "stream",
     "text": [
      "Collecting docarray\n",
      "  Downloading docarray-0.35.0-py3-none-any.whl (233 kB)\n",
      "\u001b[2K     \u001b[90m━━━━━━━━━━━━━━━━━━━━━━━━━━━━━━━━━━━━━━━\u001b[0m \u001b[32m233.2/233.2 kB\u001b[0m \u001b[31m4.3 MB/s\u001b[0m eta \u001b[36m0:00:00\u001b[0ma \u001b[36m0:00:01\u001b[0m\n",
      "\u001b[?25hRequirement already satisfied: numpy>=1.17.3 in /Library/Frameworks/Python.framework/Versions/3.11/lib/python3.11/site-packages (from docarray) (1.24.3)\n",
      "Collecting orjson>=3.8.2 (from docarray)\n",
      "  Downloading orjson-3.9.1-cp311-cp311-macosx_10_15_x86_64.macosx_11_0_arm64.macosx_10_15_universal2.whl (240 kB)\n",
      "\u001b[2K     \u001b[90m━━━━━━━━━━━━━━━━━━━━━━━━━━━━━━━━━━━━━━━\u001b[0m \u001b[32m240.5/240.5 kB\u001b[0m \u001b[31m5.6 MB/s\u001b[0m eta \u001b[36m0:00:00\u001b[0m00:01\u001b[0m\n",
      "\u001b[?25hRequirement already satisfied: pydantic<2.0.0,>=1.10.2 in /Library/Frameworks/Python.framework/Versions/3.11/lib/python3.11/site-packages (from docarray) (1.10.8)\n",
      "Collecting rich>=13.1.0 (from docarray)\n",
      "  Downloading rich-13.4.2-py3-none-any.whl (239 kB)\n",
      "\u001b[2K     \u001b[90m━━━━━━━━━━━━━━━━━━━━━━━━━━━━━━━━━━━━━━━\u001b[0m \u001b[32m239.4/239.4 kB\u001b[0m \u001b[31m7.0 MB/s\u001b[0m eta \u001b[36m0:00:00\u001b[0m\n",
      "\u001b[?25hCollecting types-requests>=2.28.11.6 (from docarray)\n",
      "  Downloading types_requests-2.31.0.1-py3-none-any.whl (14 kB)\n",
      "Requirement already satisfied: typing-inspect>=0.8.0 in /Library/Frameworks/Python.framework/Versions/3.11/lib/python3.11/site-packages (from docarray) (0.9.0)\n",
      "Requirement already satisfied: typing-extensions>=4.2.0 in /Library/Frameworks/Python.framework/Versions/3.11/lib/python3.11/site-packages (from pydantic<2.0.0,>=1.10.2->docarray) (4.5.0)\n",
      "Requirement already satisfied: markdown-it-py>=2.2.0 in /Library/Frameworks/Python.framework/Versions/3.11/lib/python3.11/site-packages (from rich>=13.1.0->docarray) (2.2.0)\n",
      "Requirement already satisfied: pygments<3.0.0,>=2.13.0 in /Library/Frameworks/Python.framework/Versions/3.11/lib/python3.11/site-packages (from rich>=13.1.0->docarray) (2.15.1)\n",
      "Collecting types-urllib3 (from types-requests>=2.28.11.6->docarray)\n",
      "  Downloading types_urllib3-1.26.25.13-py3-none-any.whl (15 kB)\n",
      "Requirement already satisfied: mypy-extensions>=0.3.0 in /Library/Frameworks/Python.framework/Versions/3.11/lib/python3.11/site-packages (from typing-inspect>=0.8.0->docarray) (1.0.0)\n",
      "Requirement already satisfied: mdurl~=0.1 in /Library/Frameworks/Python.framework/Versions/3.11/lib/python3.11/site-packages (from markdown-it-py>=2.2.0->rich>=13.1.0->docarray) (0.1.2)\n",
      "Installing collected packages: types-urllib3, types-requests, orjson, rich, docarray\n",
      "Successfully installed docarray-0.35.0 orjson-3.9.1 rich-13.4.2 types-requests-2.31.0.1 types-urllib3-1.26.25.13\n"
     ]
    }
   ],
   "source": [
    "!pip install docarray"
   ]
  },
  {
   "cell_type": "code",
   "execution_count": 9,
   "metadata": {},
   "outputs": [],
   "source": [
    "index = VectorstoreIndexCreator(\n",
    "    vectorstore_cls=DocArrayInMemorySearch\n",
    ").from_loaders([loader])"
   ]
  },
  {
   "cell_type": "code",
   "execution_count": 11,
   "metadata": {},
   "outputs": [],
   "source": [
    "query =\"Please list all your items with rain protection \\\n",
    "in a table in markdown and summarize each one.\""
   ]
  },
  {
   "cell_type": "code",
   "execution_count": 13,
   "metadata": {},
   "outputs": [
    {
     "data": {
      "text/markdown": [
       "\n",
       "\n",
       "| Item | Description | Price | Color | Size |\n",
       "| --- | --- | --- | --- | --- |\n",
       "| Rain Poncho | Stay dry during unexpected showers with this lightweight rain poncho. | 24.99 | Yellow | One Size |\n",
       "| Waterproof Jacket | Stay dry in rainy weather with this waterproof jacket. | 79.99 | Blue | M |\n",
       "| Outdoor Hat | Protect yourself from the sun with this wide-brimmed outdoor hat. | 19.99 | Khaki | One Size |\n",
       "| Camping Tent | Spacious camping tent for comfortable outdoor accommodation. | 129.99 | Green | 4 Person |\n",
       "\n",
       "The items with rain protection are the Rain Poncho, Waterproof Jacket, and Outdoor Hat. The Rain Poncho is a lightweight poncho that will keep you dry during unexpected showers. The Waterproof Jacket is designed to keep you dry in rainy weather. The Outdoor Hat is a wide-brimmed hat that will protect you from the sun."
      ],
      "text/plain": [
       "<IPython.core.display.Markdown object>"
      ]
     },
     "metadata": {},
     "output_type": "display_data"
    }
   ],
   "source": [
    "response = index.query(query)\n",
    "display(Markdown(response))"
   ]
  },
  {
   "cell_type": "code",
   "execution_count": 14,
   "metadata": {},
   "outputs": [],
   "source": [
    "loader = CSVLoader(file_path=file)"
   ]
  },
  {
   "cell_type": "code",
   "execution_count": 15,
   "metadata": {},
   "outputs": [],
   "source": [
    "docs = loader.load()"
   ]
  },
  {
   "cell_type": "code",
   "execution_count": 16,
   "metadata": {},
   "outputs": [
    {
     "data": {
      "text/plain": [
       "Document(page_content='Product Name: Hiking Pants\\nDescription: Durable and lightweight hiking pants for outdoor adventures.\\nPrice: 49.99\\nColor: Black\\nSize: L', metadata={'source': '/Users/m.maguga-darbinian/OutdoorClothingCatalog_1000.csv', 'row': 0})"
      ]
     },
     "execution_count": 16,
     "metadata": {},
     "output_type": "execute_result"
    }
   ],
   "source": [
    "docs[0]"
   ]
  },
  {
   "attachments": {},
   "cell_type": "markdown",
   "metadata": {},
   "source": [
    "# Crete embeddings"
   ]
  },
  {
   "cell_type": "code",
   "execution_count": 17,
   "metadata": {},
   "outputs": [],
   "source": [
    "from langchain.embeddings import OpenAIEmbeddings\n",
    "embeddings = OpenAIEmbeddings()"
   ]
  },
  {
   "cell_type": "code",
   "execution_count": 21,
   "metadata": {},
   "outputs": [
    {
     "name": "stdout",
     "output_type": "stream",
     "text": [
      "1536\n"
     ]
    }
   ],
   "source": [
    "embed = embeddings.embed_query(\"Hi my name is Manuel\")\n",
    "print(len(embed))"
   ]
  },
  {
   "cell_type": "code",
   "execution_count": 20,
   "metadata": {},
   "outputs": [
    {
     "name": "stdout",
     "output_type": "stream",
     "text": [
      "[-0.021913960576057434, 0.006774206645786762, -0.018190348520874977, -0.039148248732089996, -0.014089343138039112]\n"
     ]
    }
   ],
   "source": [
    "print(embed[:5])"
   ]
  },
  {
   "cell_type": "code",
   "execution_count": 22,
   "metadata": {},
   "outputs": [],
   "source": [
    "db = DocArrayInMemorySearch.from_documents(\n",
    "    docs, \n",
    "    embeddings\n",
    ")"
   ]
  },
  {
   "cell_type": "code",
   "execution_count": 23,
   "metadata": {},
   "outputs": [],
   "source": [
    "query = \"Please suggest an item with rain protection\""
   ]
  },
  {
   "cell_type": "code",
   "execution_count": 24,
   "metadata": {},
   "outputs": [],
   "source": [
    "docs = db.similarity_search(query)"
   ]
  },
  {
   "cell_type": "code",
   "execution_count": 25,
   "metadata": {},
   "outputs": [
    {
     "data": {
      "text/plain": [
       "4"
      ]
     },
     "execution_count": 25,
     "metadata": {},
     "output_type": "execute_result"
    }
   ],
   "source": [
    "len(docs)"
   ]
  },
  {
   "cell_type": "code",
   "execution_count": 26,
   "metadata": {},
   "outputs": [
    {
     "data": {
      "text/plain": [
       "Document(page_content='Product Name: Waterproof Jacket\\nDescription: Stay dry in rainy weather with this waterproof jacket.\\nPrice: 79.99\\nColor: Blue\\nSize: M', metadata={'source': '/Users/m.maguga-darbinian/OutdoorClothingCatalog_1000.csv', 'row': 1})"
      ]
     },
     "execution_count": 26,
     "metadata": {},
     "output_type": "execute_result"
    }
   ],
   "source": [
    "docs[0]"
   ]
  },
  {
   "cell_type": "code",
   "execution_count": 27,
   "metadata": {},
   "outputs": [],
   "source": [
    "retriever = db.as_retriever()"
   ]
  },
  {
   "cell_type": "code",
   "execution_count": 28,
   "metadata": {},
   "outputs": [],
   "source": [
    "llm = ChatOpenAI(temperature = 0.0)"
   ]
  },
  {
   "cell_type": "code",
   "execution_count": 29,
   "metadata": {},
   "outputs": [],
   "source": [
    "qdocs = \"\".join([docs[i].page_content for i in range(len(docs))])"
   ]
  },
  {
   "cell_type": "code",
   "execution_count": 32,
   "metadata": {},
   "outputs": [
    {
     "data": {
      "text/markdown": [
       "| Product Name   | Description                                                  | Price | Color   | Size     |\n",
       "|----------------|--------------------------------------------------------------|-------|---------|----------|\n",
       "| Waterproof Jacket | Stay dry in rainy weather with this waterproof jacket. | 79.99 | Blue    | M        |\n",
       "| Rain Poncho    | Stay dry during unexpected showers with this lightweight rain poncho. | 24.99 | Yellow  | One Size |\n",
       "| Outdoor Hat    | Protect yourself from the sun with this wide-brimmed outdoor hat. | 19.99 | Khaki   | One Size |\n",
       "| Hiking Pants   | Durable and lightweight hiking pants for outdoor adventures. | 49.99 | Black   | L        |\n",
       "\n",
       "- Waterproof Jacket: This jacket is designed to keep you dry in rainy weather. It is made of waterproof material and is suitable for outdoor activities. It is priced at $79.99 and is available in blue color and size M.\n",
       "- Rain Poncho: This lightweight rain poncho is perfect for unexpected showers. It is easy to carry and provides protection from rain. It is priced at $24.99 and is available in yellow color and one size fits all.\n",
       "- Outdoor Hat: This wide-brimmed hat is ideal for protecting yourself from the sun. It is suitable for outdoor activities and provides shade and sun protection. It is priced at $19.99 and is available in khaki color and one size fits all.\n",
       "- Hiking Pants: These pants are designed for outdoor adventures. They are durable and lightweight, making them perfect for hiking. They do not provide rain protection specifically, but they are suitable for outdoor activities. They are priced at $49.99 and are available in black color and size L."
      ],
      "text/plain": [
       "<IPython.core.display.Markdown object>"
      ]
     },
     "metadata": {},
     "output_type": "display_data"
    }
   ],
   "source": [
    "response = llm.call_as_llm(f\"{qdocs} Question: Please list all items \\\n",
    "                            with rain protection in a table in markdown and summarize each one.\") \n",
    "\n",
    "display(Markdown(response))"
   ]
  },
  {
   "cell_type": "code",
   "execution_count": 33,
   "metadata": {},
   "outputs": [],
   "source": [
    "qa_stuff = RetrievalQA.from_chain_type(\n",
    "    llm=llm, \n",
    "    chain_type=\"stuff\", \n",
    "    retriever=retriever, \n",
    "    verbose=True\n",
    ")"
   ]
  },
  {
   "cell_type": "code",
   "execution_count": 36,
   "metadata": {},
   "outputs": [],
   "source": [
    "query =  \"Question: Please list all items \\\n",
    "with rain protection in a table in markdown and summarize each one.\""
   ]
  },
  {
   "cell_type": "code",
   "execution_count": 38,
   "metadata": {},
   "outputs": [
    {
     "name": "stdout",
     "output_type": "stream",
     "text": [
      "\n",
      "\n",
      "\u001b[1m> Entering new  chain...\u001b[0m\n",
      "\n",
      "\u001b[1m> Finished chain.\u001b[0m\n"
     ]
    },
    {
     "data": {
      "text/markdown": [
       "| Product Name    | Description                                                  | Price | Color  | Size     |\n",
       "|-----------------|--------------------------------------------------------------|-------|--------|----------|\n",
       "| Waterproof Jacket | Stay dry in rainy weather with this waterproof jacket.       | 79.99 | Blue   | M        |\n",
       "| Rain Poncho     | Stay dry during unexpected showers with this lightweight rain poncho. | 24.99 | Yellow | One Size |\n",
       "| Outdoor Hat     | Protect yourself from the sun with this wide-brimmed outdoor hat. | 19.99 | Khaki  | One Size |\n",
       "| Hiking Pants    | Durable and lightweight hiking pants for outdoor adventures. | 49.99 | Black  | L        |\n",
       "\n",
       "- Waterproof Jacket: A waterproof jacket designed to keep you dry in rainy weather. It is priced at $79.99 and is available in the color blue. The size available is M.\n",
       "- Rain Poncho: A lightweight rain poncho that provides protection during unexpected showers. It is priced at $24.99 and is available in the color yellow. The size available is one size fits all.\n",
       "- Outdoor Hat: A wide-brimmed outdoor hat that offers sun protection. It is priced at $19.99 and is available in the color khaki. The size available is one size fits all.\n",
       "- Hiking Pants: Durable and lightweight hiking pants suitable for outdoor adventures. They are priced at $49.99 and are available in the color black. The size available is L."
      ],
      "text/plain": [
       "<IPython.core.display.Markdown object>"
      ]
     },
     "metadata": {},
     "output_type": "display_data"
    }
   ],
   "source": [
    "response = qa_stuff.run(query)\n",
    "display(Markdown(response))"
   ]
  },
  {
   "cell_type": "code",
   "execution_count": 39,
   "metadata": {},
   "outputs": [],
   "source": [
    "response = index.query(query, llm=llm)"
   ]
  },
  {
   "cell_type": "code",
   "execution_count": 40,
   "metadata": {},
   "outputs": [],
   "source": [
    "index = VectorstoreIndexCreator(\n",
    "    vectorstore_cls=DocArrayInMemorySearch,\n",
    "    embedding=embeddings,\n",
    ").from_loaders([loader])"
   ]
  },
  {
   "cell_type": "code",
   "execution_count": null,
   "metadata": {},
   "outputs": [],
   "source": []
  }
 ],
 "metadata": {
  "kernelspec": {
   "display_name": "Python 3",
   "language": "python",
   "name": "python3"
  },
  "language_info": {
   "codemirror_mode": {
    "name": "ipython",
    "version": 3
   },
   "file_extension": ".py",
   "mimetype": "text/x-python",
   "name": "python",
   "nbconvert_exporter": "python",
   "pygments_lexer": "ipython3",
   "version": "3.11.3"
  },
  "orig_nbformat": 4
 },
 "nbformat": 4,
 "nbformat_minor": 2
}
